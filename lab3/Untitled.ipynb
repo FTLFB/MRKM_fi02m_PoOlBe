{
 "cells": [
  {
   "cell_type": "code",
   "execution_count": 88,
   "metadata": {},
   "outputs": [],
   "source": [
    "from Crypto import Random\n",
    "from Crypto.Random import random\n",
    "from Crypto.PublicKey import ElGamal\n",
    "from Crypto.Util.number import GCD\n",
    "from Crypto.Hash import SHA512"
   ]
  },
  {
   "cell_type": "code",
   "execution_count": 89,
   "metadata": {},
   "outputs": [],
   "source": [
    "class User:\n",
    "      \n",
    "    key = None\n",
    "    message = \"\"\n",
    "    sign = None\n",
    "        \n",
    "    def create_key(self, keylength):\n",
    "        self.key = ElGamal.generate(keylength, Random.new().read)\n",
    "        \n",
    "    def sign(self, message):\n",
    "        #if key==None: key = ElGamal.generate(2048, Random.new().read)\n",
    "        self.message = message\n",
    "        h = SHA512.new(self.message.encode()).digest()\n",
    "        while 1:\n",
    "            k = random.StrongRandom().randint(1,self.key.p-1)\n",
    "            if GCD(k,key.p-1)==1: break\n",
    "        self.sign = self.key.sign(h,k)\n",
    "    \n",
    "    def check(self, message, sign, pub_key):\n",
    "        h = SHA512.new(message.encode()).digest()\n",
    "        if pub_key.verify(h,sign):\n",
    "            print(\"OK\")\n",
    "        else:\n",
    "            print(\"Incorrect signature\")\n",
    "            \n",
    "    def get_message(self):\n",
    "        return self.message\n",
    " \n",
    "    def get_sign(self):\n",
    "        return self.sign\n",
    "    \n",
    "    def get_pub_key(self):\n",
    "        return self.key.publickey()\n"
   ]
  },
  {
   "cell_type": "code",
   "execution_count": 90,
   "metadata": {},
   "outputs": [],
   "source": [
    "Alice = User()\n",
    "Bob = User()"
   ]
  },
  {
   "cell_type": "code",
   "execution_count": 91,
   "metadata": {},
   "outputs": [],
   "source": [
    "Alice.create_key(64)"
   ]
  },
  {
   "cell_type": "code",
   "execution_count": 92,
   "metadata": {},
   "outputs": [],
   "source": [
    "Alice.sign(\"I have one billion dollars\")"
   ]
  },
  {
   "cell_type": "code",
   "execution_count": 93,
   "metadata": {},
   "outputs": [
    {
     "name": "stdout",
     "output_type": "stream",
     "text": [
      "OK\n"
     ]
    }
   ],
   "source": [
    "Bob.check(Alice.get_message(), Alice.get_sign(), Alice.get_pub_key())\n"
   ]
  },
  {
   "cell_type": "code",
   "execution_count": null,
   "metadata": {},
   "outputs": [],
   "source": []
  }
 ],
 "metadata": {
  "kernelspec": {
   "display_name": "Python 3",
   "language": "python",
   "name": "python3"
  },
  "language_info": {
   "codemirror_mode": {
    "name": "ipython",
    "version": 3
   },
   "file_extension": ".py",
   "mimetype": "text/x-python",
   "name": "python",
   "nbconvert_exporter": "python",
   "pygments_lexer": "ipython3",
   "version": "3.6.12"
  }
 },
 "nbformat": 4,
 "nbformat_minor": 2
}
